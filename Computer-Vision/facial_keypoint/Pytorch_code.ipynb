{
  "nbformat": 4,
  "nbformat_minor": 0,
  "metadata": {
    "colab": {
      "name": "Pytorch_code.ipynb",
      "provenance": [],
      "collapsed_sections": [],
      "mount_file_id": "1t-PNcQeXMTGO43Jbau1MXV84k7dWTPac",
      "authorship_tag": "ABX9TyOaU1uPDgfj8rt8dovtcyBp",
      "include_colab_link": true
    },
    "kernelspec": {
      "name": "python3",
      "display_name": "Python 3"
    },
    "language_info": {
      "name": "python"
    },
    "accelerator": "GPU",
    "widgets": {
      "application/vnd.jupyter.widget-state+json": {
        "c2ad554dbfce441891704fba2252be0f": {
          "model_module": "@jupyter-widgets/controls",
          "model_name": "HBoxModel",
          "state": {
            "_view_name": "HBoxView",
            "_dom_classes": [],
            "_model_name": "HBoxModel",
            "_view_module": "@jupyter-widgets/controls",
            "_model_module_version": "1.5.0",
            "_view_count": null,
            "_view_module_version": "1.5.0",
            "box_style": "",
            "layout": "IPY_MODEL_3d0b3ff1787a4833994a4ff012f35158",
            "_model_module": "@jupyter-widgets/controls",
            "children": [
              "IPY_MODEL_571eeafc7c13460a804fdcb924a7ff16",
              "IPY_MODEL_2af36e0f28174237b99aa9c7e95cc644"
            ]
          }
        },
        "3d0b3ff1787a4833994a4ff012f35158": {
          "model_module": "@jupyter-widgets/base",
          "model_name": "LayoutModel",
          "state": {
            "_view_name": "LayoutView",
            "grid_template_rows": null,
            "right": null,
            "justify_content": null,
            "_view_module": "@jupyter-widgets/base",
            "overflow": null,
            "_model_module_version": "1.2.0",
            "_view_count": null,
            "flex_flow": null,
            "width": null,
            "min_width": null,
            "border": null,
            "align_items": null,
            "bottom": null,
            "_model_module": "@jupyter-widgets/base",
            "top": null,
            "grid_column": null,
            "overflow_y": null,
            "overflow_x": null,
            "grid_auto_flow": null,
            "grid_area": null,
            "grid_template_columns": null,
            "flex": null,
            "_model_name": "LayoutModel",
            "justify_items": null,
            "grid_row": null,
            "max_height": null,
            "align_content": null,
            "visibility": null,
            "align_self": null,
            "height": null,
            "min_height": null,
            "padding": null,
            "grid_auto_rows": null,
            "grid_gap": null,
            "max_width": null,
            "order": null,
            "_view_module_version": "1.2.0",
            "grid_template_areas": null,
            "object_position": null,
            "object_fit": null,
            "grid_auto_columns": null,
            "margin": null,
            "display": null,
            "left": null
          }
        },
        "571eeafc7c13460a804fdcb924a7ff16": {
          "model_module": "@jupyter-widgets/controls",
          "model_name": "FloatProgressModel",
          "state": {
            "_view_name": "ProgressView",
            "style": "IPY_MODEL_dd12077cf3694a008e48dab6c0ae9dfc",
            "_dom_classes": [],
            "description": "100%",
            "_model_name": "FloatProgressModel",
            "bar_style": "success",
            "max": 87306240,
            "_view_module": "@jupyter-widgets/controls",
            "_model_module_version": "1.5.0",
            "value": 87306240,
            "_view_count": null,
            "_view_module_version": "1.5.0",
            "orientation": "horizontal",
            "min": 0,
            "description_tooltip": null,
            "_model_module": "@jupyter-widgets/controls",
            "layout": "IPY_MODEL_027148b632834e048ff8dfeb5b0f1d51"
          }
        },
        "2af36e0f28174237b99aa9c7e95cc644": {
          "model_module": "@jupyter-widgets/controls",
          "model_name": "HTMLModel",
          "state": {
            "_view_name": "HTMLView",
            "style": "IPY_MODEL_34b56235332f49cf8178957ff47977d1",
            "_dom_classes": [],
            "description": "",
            "_model_name": "HTMLModel",
            "placeholder": "​",
            "_view_module": "@jupyter-widgets/controls",
            "_model_module_version": "1.5.0",
            "value": " 83.3M/83.3M [00:16&lt;00:00, 5.33MB/s]",
            "_view_count": null,
            "_view_module_version": "1.5.0",
            "description_tooltip": null,
            "_model_module": "@jupyter-widgets/controls",
            "layout": "IPY_MODEL_512cd5b95302470f877cd55868592320"
          }
        },
        "dd12077cf3694a008e48dab6c0ae9dfc": {
          "model_module": "@jupyter-widgets/controls",
          "model_name": "ProgressStyleModel",
          "state": {
            "_view_name": "StyleView",
            "_model_name": "ProgressStyleModel",
            "description_width": "initial",
            "_view_module": "@jupyter-widgets/base",
            "_model_module_version": "1.5.0",
            "_view_count": null,
            "_view_module_version": "1.2.0",
            "bar_color": null,
            "_model_module": "@jupyter-widgets/controls"
          }
        },
        "027148b632834e048ff8dfeb5b0f1d51": {
          "model_module": "@jupyter-widgets/base",
          "model_name": "LayoutModel",
          "state": {
            "_view_name": "LayoutView",
            "grid_template_rows": null,
            "right": null,
            "justify_content": null,
            "_view_module": "@jupyter-widgets/base",
            "overflow": null,
            "_model_module_version": "1.2.0",
            "_view_count": null,
            "flex_flow": null,
            "width": null,
            "min_width": null,
            "border": null,
            "align_items": null,
            "bottom": null,
            "_model_module": "@jupyter-widgets/base",
            "top": null,
            "grid_column": null,
            "overflow_y": null,
            "overflow_x": null,
            "grid_auto_flow": null,
            "grid_area": null,
            "grid_template_columns": null,
            "flex": null,
            "_model_name": "LayoutModel",
            "justify_items": null,
            "grid_row": null,
            "max_height": null,
            "align_content": null,
            "visibility": null,
            "align_self": null,
            "height": null,
            "min_height": null,
            "padding": null,
            "grid_auto_rows": null,
            "grid_gap": null,
            "max_width": null,
            "order": null,
            "_view_module_version": "1.2.0",
            "grid_template_areas": null,
            "object_position": null,
            "object_fit": null,
            "grid_auto_columns": null,
            "margin": null,
            "display": null,
            "left": null
          }
        },
        "34b56235332f49cf8178957ff47977d1": {
          "model_module": "@jupyter-widgets/controls",
          "model_name": "DescriptionStyleModel",
          "state": {
            "_view_name": "StyleView",
            "_model_name": "DescriptionStyleModel",
            "description_width": "",
            "_view_module": "@jupyter-widgets/base",
            "_model_module_version": "1.5.0",
            "_view_count": null,
            "_view_module_version": "1.2.0",
            "_model_module": "@jupyter-widgets/controls"
          }
        },
        "512cd5b95302470f877cd55868592320": {
          "model_module": "@jupyter-widgets/base",
          "model_name": "LayoutModel",
          "state": {
            "_view_name": "LayoutView",
            "grid_template_rows": null,
            "right": null,
            "justify_content": null,
            "_view_module": "@jupyter-widgets/base",
            "overflow": null,
            "_model_module_version": "1.2.0",
            "_view_count": null,
            "flex_flow": null,
            "width": null,
            "min_width": null,
            "border": null,
            "align_items": null,
            "bottom": null,
            "_model_module": "@jupyter-widgets/base",
            "top": null,
            "grid_column": null,
            "overflow_y": null,
            "overflow_x": null,
            "grid_auto_flow": null,
            "grid_area": null,
            "grid_template_columns": null,
            "flex": null,
            "_model_name": "LayoutModel",
            "justify_items": null,
            "grid_row": null,
            "max_height": null,
            "align_content": null,
            "visibility": null,
            "align_self": null,
            "height": null,
            "min_height": null,
            "padding": null,
            "grid_auto_rows": null,
            "grid_gap": null,
            "max_width": null,
            "order": null,
            "_view_module_version": "1.2.0",
            "grid_template_areas": null,
            "object_position": null,
            "object_fit": null,
            "grid_auto_columns": null,
            "margin": null,
            "display": null,
            "left": null
          }
        },
        "b3c3d591f3154e3ab3f5799f297d12ca": {
          "model_module": "@jupyter-widgets/controls",
          "model_name": "HBoxModel",
          "state": {
            "_view_name": "HBoxView",
            "_dom_classes": [],
            "_model_name": "HBoxModel",
            "_view_module": "@jupyter-widgets/controls",
            "_model_module_version": "1.5.0",
            "_view_count": null,
            "_view_module_version": "1.5.0",
            "box_style": "",
            "layout": "IPY_MODEL_da7c1024b9f74991badd3c83aa2fba84",
            "_model_module": "@jupyter-widgets/controls",
            "children": [
              "IPY_MODEL_a88a2bd376db4cd4a5b7ecc93cbdf9c7",
              "IPY_MODEL_2d5b702e85a04db189f1644fa7f82bfb"
            ]
          }
        },
        "da7c1024b9f74991badd3c83aa2fba84": {
          "model_module": "@jupyter-widgets/base",
          "model_name": "LayoutModel",
          "state": {
            "_view_name": "LayoutView",
            "grid_template_rows": null,
            "right": null,
            "justify_content": null,
            "_view_module": "@jupyter-widgets/base",
            "overflow": null,
            "_model_module_version": "1.2.0",
            "_view_count": null,
            "flex_flow": null,
            "width": null,
            "min_width": null,
            "border": null,
            "align_items": null,
            "bottom": null,
            "_model_module": "@jupyter-widgets/base",
            "top": null,
            "grid_column": null,
            "overflow_y": null,
            "overflow_x": null,
            "grid_auto_flow": null,
            "grid_area": null,
            "grid_template_columns": null,
            "flex": null,
            "_model_name": "LayoutModel",
            "justify_items": null,
            "grid_row": null,
            "max_height": null,
            "align_content": null,
            "visibility": null,
            "align_self": null,
            "height": null,
            "min_height": null,
            "padding": null,
            "grid_auto_rows": null,
            "grid_gap": null,
            "max_width": null,
            "order": null,
            "_view_module_version": "1.2.0",
            "grid_template_areas": null,
            "object_position": null,
            "object_fit": null,
            "grid_auto_columns": null,
            "margin": null,
            "display": null,
            "left": null
          }
        },
        "a88a2bd376db4cd4a5b7ecc93cbdf9c7": {
          "model_module": "@jupyter-widgets/controls",
          "model_name": "FloatProgressModel",
          "state": {
            "_view_name": "ProgressView",
            "style": "IPY_MODEL_96a90dd3579148028f16538c70668d5b",
            "_dom_classes": [],
            "description": "100%",
            "_model_name": "FloatProgressModel",
            "bar_style": "success",
            "max": 20,
            "_view_module": "@jupyter-widgets/controls",
            "_model_module_version": "1.5.0",
            "value": 20,
            "_view_count": null,
            "_view_module_version": "1.5.0",
            "orientation": "horizontal",
            "min": 0,
            "description_tooltip": null,
            "_model_module": "@jupyter-widgets/controls",
            "layout": "IPY_MODEL_35f8881f405448acb3eafd310d295497"
          }
        },
        "2d5b702e85a04db189f1644fa7f82bfb": {
          "model_module": "@jupyter-widgets/controls",
          "model_name": "HTMLModel",
          "state": {
            "_view_name": "HTMLView",
            "style": "IPY_MODEL_6840070417ba441c983f551bb180769c",
            "_dom_classes": [],
            "description": "",
            "_model_name": "HTMLModel",
            "placeholder": "​",
            "_view_module": "@jupyter-widgets/controls",
            "_model_module_version": "1.5.0",
            "value": " 20/20 [12:21&lt;00:00, 37.07s/it]",
            "_view_count": null,
            "_view_module_version": "1.5.0",
            "description_tooltip": null,
            "_model_module": "@jupyter-widgets/controls",
            "layout": "IPY_MODEL_6830f93543ec4d48855f206551d1ad7c"
          }
        },
        "96a90dd3579148028f16538c70668d5b": {
          "model_module": "@jupyter-widgets/controls",
          "model_name": "ProgressStyleModel",
          "state": {
            "_view_name": "StyleView",
            "_model_name": "ProgressStyleModel",
            "description_width": "initial",
            "_view_module": "@jupyter-widgets/base",
            "_model_module_version": "1.5.0",
            "_view_count": null,
            "_view_module_version": "1.2.0",
            "bar_color": null,
            "_model_module": "@jupyter-widgets/controls"
          }
        },
        "35f8881f405448acb3eafd310d295497": {
          "model_module": "@jupyter-widgets/base",
          "model_name": "LayoutModel",
          "state": {
            "_view_name": "LayoutView",
            "grid_template_rows": null,
            "right": null,
            "justify_content": null,
            "_view_module": "@jupyter-widgets/base",
            "overflow": null,
            "_model_module_version": "1.2.0",
            "_view_count": null,
            "flex_flow": null,
            "width": null,
            "min_width": null,
            "border": null,
            "align_items": null,
            "bottom": null,
            "_model_module": "@jupyter-widgets/base",
            "top": null,
            "grid_column": null,
            "overflow_y": null,
            "overflow_x": null,
            "grid_auto_flow": null,
            "grid_area": null,
            "grid_template_columns": null,
            "flex": null,
            "_model_name": "LayoutModel",
            "justify_items": null,
            "grid_row": null,
            "max_height": null,
            "align_content": null,
            "visibility": null,
            "align_self": null,
            "height": null,
            "min_height": null,
            "padding": null,
            "grid_auto_rows": null,
            "grid_gap": null,
            "max_width": null,
            "order": null,
            "_view_module_version": "1.2.0",
            "grid_template_areas": null,
            "object_position": null,
            "object_fit": null,
            "grid_auto_columns": null,
            "margin": null,
            "display": null,
            "left": null
          }
        },
        "6840070417ba441c983f551bb180769c": {
          "model_module": "@jupyter-widgets/controls",
          "model_name": "DescriptionStyleModel",
          "state": {
            "_view_name": "StyleView",
            "_model_name": "DescriptionStyleModel",
            "description_width": "",
            "_view_module": "@jupyter-widgets/base",
            "_model_module_version": "1.5.0",
            "_view_count": null,
            "_view_module_version": "1.2.0",
            "_model_module": "@jupyter-widgets/controls"
          }
        },
        "6830f93543ec4d48855f206551d1ad7c": {
          "model_module": "@jupyter-widgets/base",
          "model_name": "LayoutModel",
          "state": {
            "_view_name": "LayoutView",
            "grid_template_rows": null,
            "right": null,
            "justify_content": null,
            "_view_module": "@jupyter-widgets/base",
            "overflow": null,
            "_model_module_version": "1.2.0",
            "_view_count": null,
            "flex_flow": null,
            "width": null,
            "min_width": null,
            "border": null,
            "align_items": null,
            "bottom": null,
            "_model_module": "@jupyter-widgets/base",
            "top": null,
            "grid_column": null,
            "overflow_y": null,
            "overflow_x": null,
            "grid_auto_flow": null,
            "grid_area": null,
            "grid_template_columns": null,
            "flex": null,
            "_model_name": "LayoutModel",
            "justify_items": null,
            "grid_row": null,
            "max_height": null,
            "align_content": null,
            "visibility": null,
            "align_self": null,
            "height": null,
            "min_height": null,
            "padding": null,
            "grid_auto_rows": null,
            "grid_gap": null,
            "max_width": null,
            "order": null,
            "_view_module_version": "1.2.0",
            "grid_template_areas": null,
            "object_position": null,
            "object_fit": null,
            "grid_auto_columns": null,
            "margin": null,
            "display": null,
            "left": null
          }
        }
      }
    }
  },
  "cells": [
    {
      "cell_type": "markdown",
      "metadata": {
        "id": "view-in-github",
        "colab_type": "text"
      },
      "source": [
        "<a href=\"https://colab.research.google.com/github/park-geun-hyeong/Kaggle_project/blob/main/Computer_Vision/facial_keypoint/Pytorch_code.ipynb\" target=\"_parent\"><img src=\"https://colab.research.google.com/assets/colab-badge.svg\" alt=\"Open In Colab\"/></a>"
      ]
    },
    {
      "cell_type": "markdown",
      "metadata": {
        "id": "U1WMkT_utrtc"
      },
      "source": [
        "##Library Import"
      ]
    },
    {
      "cell_type": "code",
      "metadata": {
        "id": "yWFGO3Em4Wfl"
      },
      "source": [
        "import pandas as pd\n",
        "import numpy as np\n",
        "import matplotlib.pyplot as plt\n",
        "import seaborn as sns \n",
        "%matplotlib inline\n",
        "\n",
        "import os \n",
        "import cv2\n",
        "from PIL import Image\n",
        "\n",
        "from tqdm import tqdm\n",
        "import glob"
      ],
      "execution_count": 1,
      "outputs": []
    },
    {
      "cell_type": "code",
      "metadata": {
        "colab": {
          "base_uri": "https://localhost:8080/"
        },
        "id": "mlFw8UUy48YX",
        "outputId": "dc78b830-25de-4a04-c53c-b1f601759671"
      },
      "source": [
        "path = \"/content/drive/MyDrive/Kaggle/Computer_Vision/kaggle_facial_keypoint\"\n",
        "os.listdir(path)"
      ],
      "execution_count": 2,
      "outputs": [
        {
          "output_type": "execute_result",
          "data": {
            "text/plain": [
              "['training.csv',\n",
              " 'test.csv',\n",
              " 'IdLookupTable.csv',\n",
              " 'SampleSubmission.csv',\n",
              " 'facial_keypoint.ipynb',\n",
              " 'pred.csv',\n",
              " 'pred2.csv',\n",
              " 'new1.ipynb']"
            ]
          },
          "metadata": {
            "tags": []
          },
          "execution_count": 2
        }
      ]
    },
    {
      "cell_type": "markdown",
      "metadata": {
        "id": "iajqiW_Stw33"
      },
      "source": [
        "## Data"
      ]
    },
    {
      "cell_type": "code",
      "metadata": {
        "id": "vyJQgX225GHE"
      },
      "source": [
        "train = pd.read_csv(path+'/training.csv')\n",
        "test = pd.read_csv(path+'/test.csv')\n",
        "submission = pd.read_csv(path+'/SampleSubmission.csv')\n",
        "table = pd.read_csv(path+'/IdLookupTable.csv') "
      ],
      "execution_count": 3,
      "outputs": []
    },
    {
      "cell_type": "code",
      "metadata": {
        "colab": {
          "base_uri": "https://localhost:8080/"
        },
        "id": "Ucilj9vw5ee2",
        "outputId": "27853c55-fa8b-422a-fe6f-31efa437e951"
      },
      "source": [
        "train.shape, test.shape, submission.shape, table.shape"
      ],
      "execution_count": null,
      "outputs": [
        {
          "output_type": "execute_result",
          "data": {
            "text/plain": [
              "((7049, 31), (1783, 2), (27124, 2), (27124, 4))"
            ]
          },
          "metadata": {
            "tags": []
          },
          "execution_count": 4
        }
      ]
    },
    {
      "cell_type": "code",
      "metadata": {
        "colab": {
          "base_uri": "https://localhost:8080/"
        },
        "id": "hLPt_g7cQi3D",
        "outputId": "9b1f45b0-e481-4cc0-ea01-a8ee7c046ffe"
      },
      "source": [
        "train.isna().sum()"
      ],
      "execution_count": null,
      "outputs": [
        {
          "output_type": "execute_result",
          "data": {
            "text/plain": [
              "left_eye_center_x              10\n",
              "left_eye_center_y              10\n",
              "right_eye_center_x             13\n",
              "right_eye_center_y             13\n",
              "left_eye_inner_corner_x      4778\n",
              "left_eye_inner_corner_y      4778\n",
              "left_eye_outer_corner_x      4782\n",
              "left_eye_outer_corner_y      4782\n",
              "right_eye_inner_corner_x     4781\n",
              "right_eye_inner_corner_y     4781\n",
              "right_eye_outer_corner_x     4781\n",
              "right_eye_outer_corner_y     4781\n",
              "left_eyebrow_inner_end_x     4779\n",
              "left_eyebrow_inner_end_y     4779\n",
              "left_eyebrow_outer_end_x     4824\n",
              "left_eyebrow_outer_end_y     4824\n",
              "right_eyebrow_inner_end_x    4779\n",
              "right_eyebrow_inner_end_y    4779\n",
              "right_eyebrow_outer_end_x    4813\n",
              "right_eyebrow_outer_end_y    4813\n",
              "nose_tip_x                      0\n",
              "nose_tip_y                      0\n",
              "mouth_left_corner_x          4780\n",
              "mouth_left_corner_y          4780\n",
              "mouth_right_corner_x         4779\n",
              "mouth_right_corner_y         4779\n",
              "mouth_center_top_lip_x       4774\n",
              "mouth_center_top_lip_y       4774\n",
              "mouth_center_bottom_lip_x      33\n",
              "mouth_center_bottom_lip_y      33\n",
              "Image                           0\n",
              "dtype: int64"
            ]
          },
          "metadata": {
            "tags": []
          },
          "execution_count": 5
        }
      ]
    },
    {
      "cell_type": "code",
      "metadata": {
        "id": "nBDaQ6M5QkQ-"
      },
      "source": [
        "for i in range(30):  ## 결측치 값들은 각 column의 평균값으로 대체\n",
        "    train[train.columns[i]] = train[train.columns[i]].fillna(np.round(train[train.columns[i]].mean(),4))"
      ],
      "execution_count": null,
      "outputs": []
    },
    {
      "cell_type": "code",
      "metadata": {
        "colab": {
          "base_uri": "https://localhost:8080/"
        },
        "id": "sTC6HgUuR7JE",
        "outputId": "5ed5e253-cb65-4e95-ea73-25b9bca4286a"
      },
      "source": [
        "train.isna().sum().sum()"
      ],
      "execution_count": null,
      "outputs": [
        {
          "output_type": "execute_result",
          "data": {
            "text/plain": [
              "0"
            ]
          },
          "metadata": {
            "tags": []
          },
          "execution_count": 8
        }
      ]
    },
    {
      "cell_type": "markdown",
      "metadata": {
        "id": "ncAbxq4Nt6D8"
      },
      "source": [
        "## Visualization Train Data"
      ]
    },
    {
      "cell_type": "code",
      "metadata": {
        "id": "AZFlxUk-53hl"
      },
      "source": [
        "train_img = train['Image'].values\n",
        "train_keypoints = train.iloc[:,:-1].values\n",
        "test_img = test['Image'].values"
      ],
      "execution_count": null,
      "outputs": []
    },
    {
      "cell_type": "code",
      "metadata": {
        "colab": {
          "base_uri": "https://localhost:8080/"
        },
        "id": "YUcLMFbdT5oi",
        "outputId": "f6336668-6bcb-4187-c767-2fa64c85250a"
      },
      "source": [
        "train_img.shape, train_keypoints.shape"
      ],
      "execution_count": null,
      "outputs": [
        {
          "output_type": "execute_result",
          "data": {
            "text/plain": [
              "((7049,), (7049, 30))"
            ]
          },
          "metadata": {
            "tags": []
          },
          "execution_count": 26
        }
      ]
    },
    {
      "cell_type": "code",
      "metadata": {
        "colab": {
          "base_uri": "https://localhost:8080/",
          "height": 607
        },
        "id": "6Des60WCBjRj",
        "outputId": "580fd513-94e9-4c8f-f58f-c10244153cd9"
      },
      "source": [
        "fig=plt.figure(figsize=(10,10))\n",
        "\n",
        "for i in range(4):\n",
        "    ax = fig.add_subplot(2,2,i+1)\n",
        "\n",
        "    a = np.random.randint(len(train))\n",
        "\n",
        "    example_img = np.array(train_img[a].split(' ')).astype(np.uint8).reshape(96,96)\n",
        "    x = train_keypoints[a][0:30:2]\n",
        "    y = train_keypoints[a][1:30:2]\n",
        "\n",
        "    ax.imshow(example_img,cmap='gray')\n",
        "    ax.scatter(x,y, color='r')\n",
        "    ax.set_title(f'img_NUM: {a}')\n",
        "\n"
      ],
      "execution_count": null,
      "outputs": [
        {
          "output_type": "display_data",
          "data": {
            "image/png": "[encoded data removed]",
            "text/plain": [
              "<Figure size 720x720 with 4 Axes>"
            ]
          },
          "metadata": {
            "tags": [],
            "needs_background": "light"
          }
        }
      ]
    },
    {
      "cell_type": "markdown",
      "metadata": {
        "id": "cbn3Mz-puBeM"
      },
      "source": [
        "## Split Train, Validate Data"
      ]
    },
    {
      "cell_type": "code",
      "metadata": {
        "id": "NXb40UMJH-kh"
      },
      "source": [
        "from sklearn.model_selection import KFold\n",
        "\n",
        "kf=KFold(n_splits=5)"
      ],
      "execution_count": null,
      "outputs": []
    },
    {
      "cell_type": "code",
      "metadata": {
        "id": "iMr4WQA2Tmz3"
      },
      "source": [
        "train['fold'] = -1\n",
        "\n",
        "for i,(trn_idx, val_idx) in enumerate(kf.split(train_img, train_keypoints)):\n",
        "    train.loc[val_idx, 'fold'] = i"
      ],
      "execution_count": null,
      "outputs": []
    },
    {
      "cell_type": "code",
      "metadata": {
        "colab": {
          "base_uri": "https://localhost:8080/"
        },
        "id": "vqZyCTmYUHZY",
        "outputId": "d286e56a-2eeb-4a88-ce51-0b6823863795"
      },
      "source": [
        "train['fold'].value_counts()"
      ],
      "execution_count": null,
      "outputs": [
        {
          "output_type": "execute_result",
          "data": {
            "text/plain": [
              "3    1410\n",
              "2    1410\n",
              "1    1410\n",
              "0    1410\n",
              "4    1409\n",
              "Name: fold, dtype: int64"
            ]
          },
          "metadata": {
            "tags": []
          },
          "execution_count": 29
        }
      ]
    },
    {
      "cell_type": "code",
      "metadata": {
        "id": "w7ORLVwCUIFB"
      },
      "source": [
        "train_fold = [0,1,2,3]\n",
        "val_fold = [4]\n",
        "\n",
        "train_idx = train.loc[train.fold.isin(train_fold)].index\n",
        "val_idx = train.loc[train.fold.isin(val_fold)].index "
      ],
      "execution_count": null,
      "outputs": []
    },
    {
      "cell_type": "code",
      "metadata": {
        "colab": {
          "base_uri": "https://localhost:8080/"
        },
        "id": "LIAoWNzYUgsU",
        "outputId": "048e164b-f27f-4096-e544-cb232768811a"
      },
      "source": [
        "len(train_idx), len(val_idx)"
      ],
      "execution_count": null,
      "outputs": [
        {
          "output_type": "execute_result",
          "data": {
            "text/plain": [
              "(5640, 1409)"
            ]
          },
          "metadata": {
            "tags": []
          },
          "execution_count": 35
        }
      ]
    },
    {
      "cell_type": "markdown",
      "metadata": {
        "id": "DaYvNGqyuHiM"
      },
      "source": [
        "## Train,Val Dataset, DataLoader"
      ]
    },
    {
      "cell_type": "code",
      "metadata": {
        "id": "_TjYGzVzUi-N"
      },
      "source": [
        "import torch\n",
        "import torchvision\n",
        "from torch.utils.data import DataLoader, Dataset\n",
        "import albumentations as A\n",
        "from albumentations.torch import ToTensor"
      ],
      "execution_count": null,
      "outputs": []
    },
    {
      "cell_type": "code",
      "metadata": {
        "id": "tNHixuaJUz6z"
      },
      "source": [
        "class keypointsData(Dataset):\n",
        "    def __init__(self, csv, transform):\n",
        "        self.csv = csv.reset_index()\n",
        "        self.transform = transform\n",
        "\n",
        "    def __len__(self):\n",
        "        return len(self.csv)\n",
        "\n",
        "    def __getitem__(self,index: int):\n",
        "        train_img = self.csv['Image'].values \n",
        "        train_keypoints = self.csv.iloc[:,:-2].values\n",
        "        img = np.array(train_img[index].split(' ')).astype(np.uint8).reshape(96,96)\n",
        "        img = img[:,:,np.newaxis]\n",
        "        img = np.repeat(img,3,2)\n",
        "        keypoint = np.array(train_keypoints[index]).astype(np.float32) \n",
        "\n",
        "        if self.transform is not None:\n",
        "            img = self.transform(image=img)['image']\n",
        "\n",
        "        return img, keypoint\n"
      ],
      "execution_count": null,
      "outputs": []
    },
    {
      "cell_type": "code",
      "metadata": {
        "id": "p9dUnUmUVa6U"
      },
      "source": [
        "train_transform=A.Compose([\n",
        "                           A.Rotate(15, p=0.3),\n",
        "                           ToTensor()\n",
        "\n",
        "])\n",
        "\n",
        "val_transfrom = A.Compose([\n",
        "                           \n",
        "                           ToTensor()\n",
        "])"
      ],
      "execution_count": null,
      "outputs": []
    },
    {
      "cell_type": "code",
      "metadata": {
        "id": "QFr7hGhaVb5M"
      },
      "source": [
        "train_dataset = keypointsData(csv = train.loc[train_idx], transform = train_transform)\n",
        "val_dataset = keypointsData(csv = train.loc[val_idx], transform=val_transfrom)"
      ],
      "execution_count": null,
      "outputs": []
    },
    {
      "cell_type": "code",
      "metadata": {
        "id": "Bmi98vByX6s7"
      },
      "source": [
        "train_loader = DataLoader(train_dataset, batch_size = 64, shuffle=True, num_workers=2)\n",
        "val_loader = DataLoader(val_dataset, batch_size=64, shuffle=False, num_workers=2)"
      ],
      "execution_count": null,
      "outputs": []
    },
    {
      "cell_type": "code",
      "metadata": {
        "id": "zBVo-E-0YKMI"
      },
      "source": [
        "for input, target in train_loader:\n",
        "    break"
      ],
      "execution_count": null,
      "outputs": []
    },
    {
      "cell_type": "code",
      "metadata": {
        "colab": {
          "base_uri": "https://localhost:8080/"
        },
        "id": "j_kAej60YSAQ",
        "outputId": "08147333-544c-4aaa-f2cf-9708f057a308"
      },
      "source": [
        "input.shape,target.shape"
      ],
      "execution_count": null,
      "outputs": [
        {
          "output_type": "execute_result",
          "data": {
            "text/plain": [
              "(torch.Size([64, 3, 96, 96]), torch.Size([64, 31]))"
            ]
          },
          "metadata": {
            "tags": []
          },
          "execution_count": 116
        }
      ]
    },
    {
      "cell_type": "markdown",
      "metadata": {
        "id": "P86NRsSnuOHR"
      },
      "source": [
        "## Make Model"
      ]
    },
    {
      "cell_type": "code",
      "metadata": {
        "id": "UMjXriE5ZW8b"
      },
      "source": [
        "! pip install pretrainedmodels"
      ],
      "execution_count": null,
      "outputs": []
    },
    {
      "cell_type": "code",
      "metadata": {
        "colab": {
          "base_uri": "https://localhost:8080/",
          "height": 84,
          "referenced_widgets": [
            "c2ad554dbfce441891704fba2252be0f",
            "3d0b3ff1787a4833994a4ff012f35158",
            "571eeafc7c13460a804fdcb924a7ff16",
            "2af36e0f28174237b99aa9c7e95cc644",
            "dd12077cf3694a008e48dab6c0ae9dfc",
            "027148b632834e048ff8dfeb5b0f1d51",
            "34b56235332f49cf8178957ff47977d1",
            "512cd5b95302470f877cd55868592320"
          ]
        },
        "id": "YYg0_0taaCRF",
        "outputId": "11faf2b0-b881-4611-b2d8-cdf30cf55d8c"
      },
      "source": [
        "import pretrainedmodels\n",
        "\n",
        "model_name = 'resnet34'\n",
        "model = pretrainedmodels.__dict__[model_name](pretrained='imagenet')"
      ],
      "execution_count": null,
      "outputs": [
        {
          "output_type": "stream",
          "text": [
            "Downloading: \"https://download.pytorch.org/models/resnet34-333f7ec4.pth\" to /root/.cache/torch/hub/checkpoints/resnet34-333f7ec4.pth\n"
          ],
          "name": "stderr"
        },
        {
          "output_type": "display_data",
          "data": {
            "application/vnd.jupyter.widget-view+json": {
              "model_id": "c2ad554dbfce441891704fba2252be0f",
              "version_minor": 0,
              "version_major": 2
            },
            "text/plain": [
              "HBox(children=(FloatProgress(value=0.0, max=87306240.0), HTML(value='')))"
            ]
          },
          "metadata": {
            "tags": []
          }
        },
        {
          "output_type": "stream",
          "text": [
            "\n"
          ],
          "name": "stdout"
        }
      ]
    },
    {
      "cell_type": "code",
      "metadata": {
        "id": "j_-UEL2aaMyh"
      },
      "source": [
        "in_features = model.last_linear.in_features"
      ],
      "execution_count": null,
      "outputs": []
    },
    {
      "cell_type": "code",
      "metadata": {
        "id": "_cJZqz3IaV8a"
      },
      "source": [
        "import torch.nn as nn"
      ],
      "execution_count": null,
      "outputs": []
    },
    {
      "cell_type": "code",
      "metadata": {
        "id": "J8Ijl8y8af-_"
      },
      "source": [
        "model.last_linear = nn.Linear(in_features, 30, bias=False)"
      ],
      "execution_count": null,
      "outputs": []
    },
    {
      "cell_type": "code",
      "metadata": {
        "colab": {
          "base_uri": "https://localhost:8080/"
        },
        "id": "qKYXl7DWapTL",
        "outputId": "d2c4e49d-52ea-4957-c369-a9fb64c3da7e"
      },
      "source": [
        "model.last_linear"
      ],
      "execution_count": null,
      "outputs": [
        {
          "output_type": "execute_result",
          "data": {
            "text/plain": [
              "Linear(in_features=512, out_features=30, bias=False)"
            ]
          },
          "metadata": {
            "tags": []
          },
          "execution_count": 101
        }
      ]
    },
    {
      "cell_type": "code",
      "metadata": {
        "id": "oAo-3HQiar7y"
      },
      "source": [
        "loss_fn = nn.MSELoss()\n",
        "optimizer = torch.optim.Adam(model.parameters(),lr=0.001)\n",
        "scheduler = torch.optim.lr_scheduler.ReduceLROnPlateau(optimizer, mode='min', factor=0.5, patience=4)"
      ],
      "execution_count": null,
      "outputs": []
    },
    {
      "cell_type": "code",
      "metadata": {
        "id": "oLJZWw1IbFCd"
      },
      "source": [
        "device = torch.device('cuda' if torch.cuda.is_available else 'cpu')"
      ],
      "execution_count": null,
      "outputs": []
    },
    {
      "cell_type": "code",
      "metadata": {
        "id": "0C1xFuDRciAh"
      },
      "source": [
        "from tqdm import tqdm_notebook"
      ],
      "execution_count": null,
      "outputs": []
    },
    {
      "cell_type": "code",
      "metadata": {
        "id": "s0y5bZMhfryV"
      },
      "source": [
        "from sklearn.metrics import mean_squared_error"
      ],
      "execution_count": null,
      "outputs": []
    },
    {
      "cell_type": "markdown",
      "metadata": {
        "id": "cXHz3pNcuSiv"
      },
      "source": [
        "## Training"
      ]
    },
    {
      "cell_type": "code",
      "metadata": {
        "colab": {
          "base_uri": "https://localhost:8080/",
          "height": 471,
          "referenced_widgets": [
            "b3c3d591f3154e3ab3f5799f297d12ca",
            "da7c1024b9f74991badd3c83aa2fba84",
            "a88a2bd376db4cd4a5b7ecc93cbdf9c7",
            "2d5b702e85a04db189f1644fa7f82bfb",
            "96a90dd3579148028f16538c70668d5b",
            "35f8881f405448acb3eafd310d295497",
            "6840070417ba441c983f551bb180769c",
            "6830f93543ec4d48855f206551d1ad7c"
          ]
        },
        "id": "bNBuo4AIbTAm",
        "outputId": "f3469b54-0e68-47d7-cb7a-8bec25942339"
      },
      "source": [
        "model = model.to(device)\n",
        "train_loss = []\n",
        "best_score = 10\n",
        "\n",
        "for epoch in tqdm_notebook(range(20)):\n",
        "    model.train()\n",
        "\n",
        "    for inputs, targets in train_loader:\n",
        "        inputs = inputs.to(device)\n",
        "        targets = targets.to(device)\n",
        "\n",
        "        targets = targets[:,1:]\n",
        "\n",
        "        optimizer.zero_grad()\n",
        "\n",
        "        logits = model(inputs)\n",
        "\n",
        "        loss = loss_fn(logits, targets)\n",
        "\n",
        "        loss.backward()\n",
        "        optimizer.step()\n",
        "\n",
        "        \n",
        "        train_loss.append(loss.item())\n",
        "\n",
        "    val_loss=[]\n",
        "    val_true=[]\n",
        "    val_pred=[]\n",
        "\n",
        "    model.eval()\n",
        "      \n",
        "    with torch.no_grad():\n",
        "        for inputs,targets in val_loader:    \n",
        "            inputs = inputs.to(device)\n",
        "            targets = targets.to(device)\n",
        "\n",
        "            targets = targets[:,1:]\n",
        "\n",
        "            logits = model(inputs)\n",
        "\n",
        "            loss = loss_fn(logits, targets)\n",
        "\n",
        "            val_loss.append(loss.item())\n",
        "\n",
        "            val_true.append(targets.cpu().data.numpy())\n",
        "            val_pred.append(logits.cpu().data.numpy())\n",
        "\n",
        "\n",
        "        val_true = np.concatenate(val_true)\n",
        "        val_pred = np.concatenate(val_pred)\n",
        "\n",
        "        final_score = mean_squared_error(val_true, val_pred)\n",
        "\n",
        "        print(f\"epochs: {epoch+1}, train_loss:{np.mean(train_loss)}, val_loss:{np.mean(val_loss)}, mse:{final_score}\")\n",
        "\n",
        "        if final_score<best_score:\n",
        "            best_score=final_score\n",
        "\n",
        "            state_dict = model.cpu().state_dict()\n",
        "            model = model.to(device)\n",
        "\n",
        "            torch.save(state_dict, 'model.pt')"
      ],
      "execution_count": null,
      "outputs": [
        {
          "output_type": "stream",
          "text": [
            "/usr/local/lib/python3.7/dist-packages/ipykernel_launcher.py:5: TqdmDeprecationWarning: This function will be removed in tqdm==5.0.0\n",
            "Please use `tqdm.notebook.tqdm` instead of `tqdm.tqdm_notebook`\n",
            "  \"\"\"\n"
          ],
          "name": "stderr"
        },
        {
          "output_type": "display_data",
          "data": {
            "application/vnd.jupyter.widget-view+json": {
              "model_id": "b3c3d591f3154e3ab3f5799f297d12ca",
              "version_minor": 0,
              "version_major": 2
            },
            "text/plain": [
              "HBox(children=(FloatProgress(value=0.0, max=20.0), HTML(value='')))"
            ]
          },
          "metadata": {
            "tags": []
          }
        },
        {
          "output_type": "stream",
          "text": [
            "epochs: 1, train_loss:2.0820603136266214, val_loss:2.329532180143439, mse:2.3951919078826904\n",
            "epochs: 2, train_loss:1.6136080880513353, val_loss:1.5167368520861086, mse:1.5343044996261597\n",
            "epochs: 3, train_loss:1.3673669819751482, val_loss:1.8832883964414182, mse:1.931986689567566\n",
            "epochs: 4, train_loss:1.2351648603262526, val_loss:1.4526087201159934, mse:1.4903016090393066\n",
            "epochs: 5, train_loss:1.1331370829866174, val_loss:1.783148210981618, mse:1.8238128423690796\n",
            "epochs: 6, train_loss:1.0542586677976316, val_loss:2.193336564561595, mse:2.2462682723999023\n",
            "epochs: 7, train_loss:1.0001645579001304, val_loss:1.844502972519916, mse:1.8775955438613892\n",
            "epochs: 8, train_loss:0.964106677790706, val_loss:1.5744723340739375, mse:1.6083617210388184\n",
            "epochs: 9, train_loss:0.9263180157590597, val_loss:1.3108833976413892, mse:1.3399276733398438\n",
            "epochs: 10, train_loss:0.8998653363310889, val_loss:1.5238606826118801, mse:1.5628377199172974\n",
            "epochs: 11, train_loss:0.8703959993371194, val_loss:1.7348550687665525, mse:1.7718578577041626\n",
            "epochs: 12, train_loss:0.8446706400326128, val_loss:1.6361575904099837, mse:1.6711039543151855\n",
            "epochs: 13, train_loss:0.8235068302166905, val_loss:1.756058957265771, mse:1.8097424507141113\n",
            "epochs: 14, train_loss:0.8033634779397787, val_loss:1.3894960050997527, mse:1.4025017023086548\n",
            "epochs: 15, train_loss:0.7851515344019686, val_loss:1.6585510606351106, mse:1.6884539127349854\n",
            "epochs: 16, train_loss:0.7687985879484187, val_loss:1.5070908302846162, mse:1.54547917842865\n",
            "epochs: 17, train_loss:0.7535252337887519, val_loss:1.626991295296213, mse:1.6718502044677734\n",
            "epochs: 18, train_loss:0.7420547201429563, val_loss:3.819387570671413, mse:3.951848268508911\n",
            "epochs: 19, train_loss:0.736536332113654, val_loss:1.641993504503499, mse:1.6830793619155884\n",
            "epochs: 20, train_loss:0.7253206204999698, val_loss:1.434711702491926, mse:1.4488614797592163\n",
            "\n"
          ],
          "name": "stdout"
        }
      ]
    },
    {
      "cell_type": "code",
      "metadata": {
        "colab": {
          "base_uri": "https://localhost:8080/"
        },
        "id": "ivwzIPdPlrvO",
        "outputId": "73d13576-9d72-4e18-9d16-159bad801052"
      },
      "source": [
        "model.load_state_dict(torch.load('model.pt'))"
      ],
      "execution_count": null,
      "outputs": [
        {
          "output_type": "execute_result",
          "data": {
            "text/plain": [
              "<All keys matched successfully>"
            ]
          },
          "metadata": {
            "tags": []
          },
          "execution_count": 187
        }
      ]
    },
    {
      "cell_type": "markdown",
      "metadata": {
        "id": "L7Fz5WIMuVaG"
      },
      "source": [
        "##Test Dataset, DataLoader"
      ]
    },
    {
      "cell_type": "code",
      "metadata": {
        "id": "vhOGnfErq6Su"
      },
      "source": [
        "class TestData(Dataset):\n",
        "    def __init__(self,csv,transform):\n",
        "        self.csv = csv\n",
        "        self.transform=transform\n",
        "        self.img_ids = self.csv.ImageId.values\n",
        "\n",
        "    def __len__(self):\n",
        "        return len(self.csv)\n",
        "\n",
        "    def __getitem__(self,index: int):\n",
        "        test_img = self.csv.iloc[:,1].values\n",
        "        img = np.array(test_img[index].split(' ')).reshape(96,96).astype(np.uint8)\n",
        "        img = img[:,:,np.newaxis]\n",
        "        img = np.repeat(img, 3, 2)\n",
        "\n",
        "        if self.transform is not None:\n",
        "            img = self.transform(image=img)['image']\n",
        "\n",
        "        return img"
      ],
      "execution_count": null,
      "outputs": []
    },
    {
      "cell_type": "code",
      "metadata": {
        "id": "VX_ozNk-tQcC"
      },
      "source": [
        "test_transform = A.Compose([\n",
        "                            ToTensor()\n",
        "])"
      ],
      "execution_count": null,
      "outputs": []
    },
    {
      "cell_type": "code",
      "metadata": {
        "id": "Xm1A2s2wtUG_"
      },
      "source": [
        "test_dataset = TestData(csv=test, transform=test_transform)\n",
        "test_loader = DataLoader(test_dataset, batch_size=64, shuffle=False, num_workers=2)  "
      ],
      "execution_count": null,
      "outputs": []
    },
    {
      "cell_type": "code",
      "metadata": {
        "id": "mxd9ddvi1klh"
      },
      "source": [
        "for inputs in test_loader:\n",
        "    break"
      ],
      "execution_count": null,
      "outputs": []
    },
    {
      "cell_type": "code",
      "metadata": {
        "colab": {
          "base_uri": "https://localhost:8080/"
        },
        "id": "kNVuBFbs34KD",
        "outputId": "1c4bbac8-a812-4fce-a345-ceb81bfc8bb8"
      },
      "source": [
        "inputs[0].shape"
      ],
      "execution_count": null,
      "outputs": [
        {
          "output_type": "execute_result",
          "data": {
            "text/plain": [
              "torch.Size([3, 96, 96])"
            ]
          },
          "metadata": {
            "tags": []
          },
          "execution_count": 236
        }
      ]
    },
    {
      "cell_type": "markdown",
      "metadata": {
        "id": "KV-dzh7ruaWN"
      },
      "source": [
        "##Prediction"
      ]
    },
    {
      "cell_type": "code",
      "metadata": {
        "colab": {
          "base_uri": "https://localhost:8080/"
        },
        "id": "Pf9SxpdDtZ4c",
        "outputId": "796af2ab-6342-4e25-b57a-1a4293812e5b"
      },
      "source": [
        "model = model.to(device)\n",
        "preds = []\n",
        "\n",
        "for batch, inputs in tqdm(enumerate(test_loader)):\n",
        "    model.eval()\n",
        "    \n",
        "    with torch.no_grad():\n",
        "        inputs = inputs.to(device)\n",
        "\n",
        "        logits = model(inputs)\n",
        "\n",
        "        pred = np.array(logits.cpu().data)\n",
        "\n",
        "        preds.append(pred)\n"
      ],
      "execution_count": null,
      "outputs": [
        {
          "output_type": "stream",
          "text": [
            "28it [00:07,  3.81it/s]\n"
          ],
          "name": "stderr"
        }
      ]
    },
    {
      "cell_type": "code",
      "metadata": {
        "id": "_EPQfr3FuNo5"
      },
      "source": [
        "new_preds = np.concatenate(preds) "
      ],
      "execution_count": null,
      "outputs": []
    },
    {
      "cell_type": "code",
      "metadata": {
        "colab": {
          "base_uri": "https://localhost:8080/"
        },
        "id": "-GVZ1ZZkyuyV",
        "outputId": "755348f5-a5c9-42d5-8873-dba04f578075"
      },
      "source": [
        "new_preds.shape"
      ],
      "execution_count": null,
      "outputs": [
        {
          "output_type": "execute_result",
          "data": {
            "text/plain": [
              "(1783, 30)"
            ]
          },
          "metadata": {
            "tags": []
          },
          "execution_count": 261
        }
      ]
    },
    {
      "cell_type": "code",
      "metadata": {
        "id": "Kcq1uG8U5oXT"
      },
      "source": [
        "pred_df = pd.DataFrame(new_preds) "
      ],
      "execution_count": null,
      "outputs": []
    },
    {
      "cell_type": "code",
      "metadata": {
        "id": "IbSli1Nb6Yx6"
      },
      "source": [
        "pred_test = pd.concat([test,pred_df],axis=1)"
      ],
      "execution_count": null,
      "outputs": []
    },
    {
      "cell_type": "code",
      "metadata": {
        "id": "FMSBSeNapJp5"
      },
      "source": [
        "pred=pd.read_csv(path+'/pred.csv')\n",
        "pred2 = pd.read_csv(path+'/pred2.csv')"
      ],
      "execution_count": 5,
      "outputs": []
    },
    {
      "cell_type": "markdown",
      "metadata": {
        "id": "h5zresrHuf4U"
      },
      "source": [
        "## Test Image Visualization"
      ]
    },
    {
      "cell_type": "code",
      "metadata": {
        "colab": {
          "base_uri": "https://localhost:8080/",
          "height": 376
        },
        "id": "ibxwmjM2pTI9",
        "outputId": "219c6951-77cd-4546-f4db-a8c33f830625"
      },
      "source": [
        "b=np.random.randint(len(test))\n",
        "\n",
        "x = pred2.values[b,0:30:2]\n",
        "y = pred2.values[b,1:30:2]\n",
        "img = np.array(test['Image'].values[b].split(' ')).reshape(96,96).astype(np.uint8)\n",
        "plt.figure(figsize=(6,6))\n",
        "plt.imshow(img, cmap='gray')\n",
        "plt.scatter(x,y,c='r')\n",
        "plt.show()"
      ],
      "execution_count": 36,
      "outputs": [
        {
          "output_type": "display_data",
          "data": {
            "image/png": "[encoded data removed]",
            "text/plain": [
              "<Figure size 432x432 with 1 Axes>"
            ]
          },
          "metadata": {
            "tags": [],
            "needs_background": "light"
          }
        }
      ]
    },
    {
      "cell_type": "markdown",
      "metadata": {
        "id": "0lk-Vhz7uqLQ"
      },
      "source": [
        "## Make Submission File"
      ]
    },
    {
      "cell_type": "code",
      "metadata": {
        "colab": {
          "base_uri": "https://localhost:8080/",
          "height": 402
        },
        "id": "imrYMQhhptAx",
        "outputId": "948fe7ee-c8f6-4da9-8853-acaf82108d62"
      },
      "source": [
        "table"
      ],
      "execution_count": 37,
      "outputs": [
        {
          "output_type": "execute_result",
          "data": {
            "text/html": [
              "<div>\n",
              "<style scoped>\n",
              "    .dataframe tbody tr th:only-of-type {\n",
              "        vertical-align: middle;\n",
              "    }\n",
              "\n",
              "    .dataframe tbody tr th {\n",
              "        vertical-align: top;\n",
              "    }\n",
              "\n",
              "    .dataframe thead th {\n",
              "        text-align: right;\n",
              "    }\n",
              "</style>\n",
              "<table border=\"1\" class=\"dataframe\">\n",
              "  <thead>\n",
              "    <tr style=\"text-align: right;\">\n",
              "      <th></th>\n",
              "      <th>RowId</th>\n",
              "      <th>ImageId</th>\n",
              "      <th>FeatureName</th>\n",
              "      <th>Location</th>\n",
              "    </tr>\n",
              "  </thead>\n",
              "  <tbody>\n",
              "    <tr>\n",
              "      <th>0</th>\n",
              "      <td>1</td>\n",
              "      <td>1</td>\n",
              "      <td>left_eye_center_x</td>\n",
              "      <td>NaN</td>\n",
              "    </tr>\n",
              "    <tr>\n",
              "      <th>1</th>\n",
              "      <td>2</td>\n",
              "      <td>1</td>\n",
              "      <td>left_eye_center_y</td>\n",
              "      <td>NaN</td>\n",
              "    </tr>\n",
              "    <tr>\n",
              "      <th>2</th>\n",
              "      <td>3</td>\n",
              "      <td>1</td>\n",
              "      <td>right_eye_center_x</td>\n",
              "      <td>NaN</td>\n",
              "    </tr>\n",
              "    <tr>\n",
              "      <th>3</th>\n",
              "      <td>4</td>\n",
              "      <td>1</td>\n",
              "      <td>right_eye_center_y</td>\n",
              "      <td>NaN</td>\n",
              "    </tr>\n",
              "    <tr>\n",
              "      <th>4</th>\n",
              "      <td>5</td>\n",
              "      <td>1</td>\n",
              "      <td>left_eye_inner_corner_x</td>\n",
              "      <td>NaN</td>\n",
              "    </tr>\n",
              "    <tr>\n",
              "      <th>...</th>\n",
              "      <td>...</td>\n",
              "      <td>...</td>\n",
              "      <td>...</td>\n",
              "      <td>...</td>\n",
              "    </tr>\n",
              "    <tr>\n",
              "      <th>27119</th>\n",
              "      <td>27120</td>\n",
              "      <td>1783</td>\n",
              "      <td>right_eye_center_y</td>\n",
              "      <td>NaN</td>\n",
              "    </tr>\n",
              "    <tr>\n",
              "      <th>27120</th>\n",
              "      <td>27121</td>\n",
              "      <td>1783</td>\n",
              "      <td>nose_tip_x</td>\n",
              "      <td>NaN</td>\n",
              "    </tr>\n",
              "    <tr>\n",
              "      <th>27121</th>\n",
              "      <td>27122</td>\n",
              "      <td>1783</td>\n",
              "      <td>nose_tip_y</td>\n",
              "      <td>NaN</td>\n",
              "    </tr>\n",
              "    <tr>\n",
              "      <th>27122</th>\n",
              "      <td>27123</td>\n",
              "      <td>1783</td>\n",
              "      <td>mouth_center_bottom_lip_x</td>\n",
              "      <td>NaN</td>\n",
              "    </tr>\n",
              "    <tr>\n",
              "      <th>27123</th>\n",
              "      <td>27124</td>\n",
              "      <td>1783</td>\n",
              "      <td>mouth_center_bottom_lip_y</td>\n",
              "      <td>NaN</td>\n",
              "    </tr>\n",
              "  </tbody>\n",
              "</table>\n",
              "<p>27124 rows × 4 columns</p>\n",
              "</div>"
            ],
            "text/plain": [
              "       RowId  ImageId                FeatureName  Location\n",
              "0          1        1          left_eye_center_x       NaN\n",
              "1          2        1          left_eye_center_y       NaN\n",
              "2          3        1         right_eye_center_x       NaN\n",
              "3          4        1         right_eye_center_y       NaN\n",
              "4          5        1    left_eye_inner_corner_x       NaN\n",
              "...      ...      ...                        ...       ...\n",
              "27119  27120     1783         right_eye_center_y       NaN\n",
              "27120  27121     1783                 nose_tip_x       NaN\n",
              "27121  27122     1783                 nose_tip_y       NaN\n",
              "27122  27123     1783  mouth_center_bottom_lip_x       NaN\n",
              "27123  27124     1783  mouth_center_bottom_lip_y       NaN\n",
              "\n",
              "[27124 rows x 4 columns]"
            ]
          },
          "metadata": {
            "tags": []
          },
          "execution_count": 37
        }
      ]
    },
    {
      "cell_type": "code",
      "metadata": {
        "id": "vD3gJ8e-qsnn"
      },
      "source": [
        "featurename = list(table['FeatureName'])\n",
        "ImageId = list(table['ImageId']-1)\n",
        "rowid = list(table['RowId'])"
      ],
      "execution_count": 39,
      "outputs": []
    },
    {
      "cell_type": "code",
      "metadata": {
        "id": "QqkmY9J6sz9c"
      },
      "source": [
        "pred_list = list(pred2.values)"
      ],
      "execution_count": 46,
      "outputs": []
    },
    {
      "cell_type": "code",
      "metadata": {
        "id": "Ba3D640oq0HR"
      },
      "source": [
        "feature=[]\n",
        "\n",
        "for f in list(table['FeatureName']):\n",
        "    feature.append(featurename.index(f))"
      ],
      "execution_count": 41,
      "outputs": []
    },
    {
      "cell_type": "code",
      "metadata": {
        "id": "kLY_QyYsropO"
      },
      "source": [
        "preded=[]\n",
        "\n",
        "for x,y, in zip(ImageId, feature):\n",
        "    preded.append(pred_list[x][y])"
      ],
      "execution_count": 59,
      "outputs": []
    },
    {
      "cell_type": "code",
      "metadata": {
        "id": "9w7qvom0tClt"
      },
      "source": [
        "preded = np.round(preded,4)"
      ],
      "execution_count": 60,
      "outputs": []
    },
    {
      "cell_type": "code",
      "metadata": {
        "id": "ZhkcYNm4tRLd"
      },
      "source": [
        "submission['Location'] = preded"
      ],
      "execution_count": 68,
      "outputs": []
    },
    {
      "cell_type": "code",
      "metadata": {
        "colab": {
          "base_uri": "https://localhost:8080/",
          "height": 402
        },
        "id": "eXFgKFV3tcdC",
        "outputId": "5937b86e-2619-4042-ef0d-fe5e3dbda44b"
      },
      "source": [
        "submission"
      ],
      "execution_count": 69,
      "outputs": [
        {
          "output_type": "execute_result",
          "data": {
            "text/html": [
              "<div>\n",
              "<style scoped>\n",
              "    .dataframe tbody tr th:only-of-type {\n",
              "        vertical-align: middle;\n",
              "    }\n",
              "\n",
              "    .dataframe tbody tr th {\n",
              "        vertical-align: top;\n",
              "    }\n",
              "\n",
              "    .dataframe thead th {\n",
              "        text-align: right;\n",
              "    }\n",
              "</style>\n",
              "<table border=\"1\" class=\"dataframe\">\n",
              "  <thead>\n",
              "    <tr style=\"text-align: right;\">\n",
              "      <th></th>\n",
              "      <th>RowId</th>\n",
              "      <th>Location</th>\n",
              "    </tr>\n",
              "  </thead>\n",
              "  <tbody>\n",
              "    <tr>\n",
              "      <th>0</th>\n",
              "      <td>1</td>\n",
              "      <td>65.8229</td>\n",
              "    </tr>\n",
              "    <tr>\n",
              "      <th>1</th>\n",
              "      <td>2</td>\n",
              "      <td>38.9801</td>\n",
              "    </tr>\n",
              "    <tr>\n",
              "      <th>2</th>\n",
              "      <td>3</td>\n",
              "      <td>30.3488</td>\n",
              "    </tr>\n",
              "    <tr>\n",
              "      <th>3</th>\n",
              "      <td>4</td>\n",
              "      <td>36.6492</td>\n",
              "    </tr>\n",
              "    <tr>\n",
              "      <th>4</th>\n",
              "      <td>5</td>\n",
              "      <td>59.5637</td>\n",
              "    </tr>\n",
              "    <tr>\n",
              "      <th>...</th>\n",
              "      <td>...</td>\n",
              "      <td>...</td>\n",
              "    </tr>\n",
              "    <tr>\n",
              "      <th>27119</th>\n",
              "      <td>27120</td>\n",
              "      <td>38.4201</td>\n",
              "    </tr>\n",
              "    <tr>\n",
              "      <th>27120</th>\n",
              "      <td>27121</td>\n",
              "      <td>47.7125</td>\n",
              "    </tr>\n",
              "    <tr>\n",
              "      <th>27121</th>\n",
              "      <td>27122</td>\n",
              "      <td>65.0973</td>\n",
              "    </tr>\n",
              "    <tr>\n",
              "      <th>27122</th>\n",
              "      <td>27123</td>\n",
              "      <td>48.8138</td>\n",
              "    </tr>\n",
              "    <tr>\n",
              "      <th>27123</th>\n",
              "      <td>27124</td>\n",
              "      <td>82.1602</td>\n",
              "    </tr>\n",
              "  </tbody>\n",
              "</table>\n",
              "<p>27124 rows × 2 columns</p>\n",
              "</div>"
            ],
            "text/plain": [
              "       RowId  Location\n",
              "0          1   65.8229\n",
              "1          2   38.9801\n",
              "2          3   30.3488\n",
              "3          4   36.6492\n",
              "4          5   59.5637\n",
              "...      ...       ...\n",
              "27119  27120   38.4201\n",
              "27120  27121   47.7125\n",
              "27121  27122   65.0973\n",
              "27122  27123   48.8138\n",
              "27123  27124   82.1602\n",
              "\n",
              "[27124 rows x 2 columns]"
            ]
          },
          "metadata": {
            "tags": []
          },
          "execution_count": 69
        }
      ]
    },
    {
      "cell_type": "code",
      "metadata": {
        "id": "5-2e6hA5tk_p"
      },
      "source": [
        "submission.to_csv('facial_submission.csv',index=False)"
      ],
      "execution_count": 70,
      "outputs": []
    }
  ]
}
